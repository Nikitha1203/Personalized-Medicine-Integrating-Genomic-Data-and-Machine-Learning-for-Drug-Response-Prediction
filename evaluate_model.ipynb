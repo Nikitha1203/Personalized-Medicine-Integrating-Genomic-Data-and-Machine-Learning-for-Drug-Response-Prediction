{
 "cells": [
  {
   "cell_type": "code",
   "execution_count": 1,
   "metadata": {},
   "outputs": [
    {
     "ename": "NameError",
     "evalue": "name 'RandomForestClassifier' is not defined",
     "output_type": "error",
     "traceback": [
      "\u001b[1;31m---------------------------------------------------------------------------\u001b[0m",
      "\u001b[1;31mNameError\u001b[0m                                 Traceback (most recent call last)",
      "Cell \u001b[1;32mIn[1], line 14\u001b[0m\n\u001b[0;32m     11\u001b[0m target_statins \u001b[38;5;241m=\u001b[39m combined_data[\u001b[38;5;124m'\u001b[39m\u001b[38;5;124mStatins_Side_Effects\u001b[39m\u001b[38;5;124m'\u001b[39m]\n\u001b[0;32m     13\u001b[0m \u001b[38;5;66;03m# Load the trained classifiers\u001b[39;00m\n\u001b[1;32m---> 14\u001b[0m aspirin_classifier \u001b[38;5;241m=\u001b[39m \u001b[43mRandomForestClassifier\u001b[49m(random_state\u001b[38;5;241m=\u001b[39m\u001b[38;5;241m42\u001b[39m)\n\u001b[0;32m     15\u001b[0m insulin_classifier \u001b[38;5;241m=\u001b[39m RandomForestClassifier(random_state\u001b[38;5;241m=\u001b[39m\u001b[38;5;241m42\u001b[39m)\n\u001b[0;32m     16\u001b[0m statins_classifier \u001b[38;5;241m=\u001b[39m RandomForestClassifier(random_state\u001b[38;5;241m=\u001b[39m\u001b[38;5;241m42\u001b[39m)\n",
      "\u001b[1;31mNameError\u001b[0m: name 'RandomForestClassifier' is not defined"
     ]
    }
   ],
   "source": [
    "import pandas as pd\n",
    "from sklearn.metrics import accuracy_score, classification_report\n",
    "from sklearn.ensemble import RandomForestClassifier\n",
    "\n",
    "\n",
    "# Load synthetic data (combined genomic, drug response, and EHR data)\n",
    "combined_data = pd.read_csv('synthetic_data.csv')\n",
    "\n",
    "# Identify features (X) and target variables (y)\n",
    "features = combined_data.drop(['Patient_ID', 'Aspirin_Efficacy_Score', 'Insulin_Efficacy_Score', 'Statins_Efficacy_Score'], axis=1)\n",
    "target_aspirin = combined_data['Aspirin_Side_Effects']\n",
    "target_insulin = combined_data['Insulin_Side_Effects']\n",
    "target_statins = combined_data['Statins_Side_Effects']\n",
    "\n",
    "# Load the trained classifiers\n",
    "aspirin_classifier = RandomForestClassifier(random_state=42)\n",
    "insulin_classifier = RandomForestClassifier(random_state=42)\n",
    "statins_classifier = RandomForestClassifier(random_state=42)\n",
    "\n",
    "# Train classifiers on the entire dataset (for demonstration purposes)\n",
    "aspirin_classifier.fit(features, target_aspirin)\n",
    "insulin_classifier.fit(features, target_insulin)\n",
    "statins_classifier.fit(features, target_statins)\n",
    "\n",
    "# Make predictions on the synthetic data for evaluation\n",
    "aspirin_predictions = aspirin_classifier.predict(features)\n",
    "insulin_predictions = insulin_classifier.predict(features)\n",
    "statins_predictions = statins_classifier.predict(features)\n",
    "\n",
    "# Evaluate classifiers\n",
    "print(\"Aspirin Classifier - Accuracy:\", accuracy_score(target_aspirin, aspirin_predictions))\n",
    "print(\"Aspirin Classifier - Classification Report:\")\n",
    "print(classification_report(target_aspirin, aspirin_predictions))\n",
    "\n",
    "print(\"Insulin Classifier - Accuracy:\", accuracy_score(target_insulin, insulin_predictions))\n",
    "print(\"Insulin Classifier - Classification Report:\")\n",
    "print(classification_report(target_insulin, insulin_predictions))\n",
    "\n",
    "print(\"Statins Classifier - Accuracy:\", accuracy_score(target_statins, statins_predictions))\n",
    "print(\"Statins Classifier - Classification Report:\")\n",
    "print(classification_report(target_statins, statins_predictions))\n"
   ]
  },
  {
   "cell_type": "code",
   "execution_count": null,
   "metadata": {},
   "outputs": [],
   "source": []
  }
 ],
 "metadata": {
  "kernelspec": {
   "display_name": "Python 3",
   "language": "python",
   "name": "python3"
  },
  "language_info": {
   "codemirror_mode": {
    "name": "ipython",
    "version": 3
   },
   "file_extension": ".py",
   "mimetype": "text/x-python",
   "name": "python",
   "nbconvert_exporter": "python",
   "pygments_lexer": "ipython3",
   "version": "3.10.4"
  }
 },
 "nbformat": 4,
 "nbformat_minor": 2
}
