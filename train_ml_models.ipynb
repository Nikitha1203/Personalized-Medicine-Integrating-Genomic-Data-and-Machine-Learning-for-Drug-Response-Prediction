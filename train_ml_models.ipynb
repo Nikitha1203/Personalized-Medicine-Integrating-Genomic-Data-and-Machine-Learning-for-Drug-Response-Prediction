{
  "cells": [
    {
      "cell_type": "code",
      "execution_count": 1,
      "metadata": {},
      "outputs": [
        {
          "name": "stdout",
          "output_type": "stream",
          "text": [
            "Aspirin Classifier - Accuracy: 1.00\n",
            "Aspirin Classifier - Classification Report:\n",
            "              precision    recall  f1-score   support\n",
            "\n",
            "           0       1.00      1.00      1.00        10\n",
            "           1       1.00      1.00      1.00        10\n",
            "\n",
            "    accuracy                           1.00        20\n",
            "   macro avg       1.00      1.00      1.00        20\n",
            "weighted avg       1.00      1.00      1.00        20\n",
            "\n",
            "Insulin Classifier - Accuracy: 1.00\n",
            "Insulin Classifier - Classification Report:\n",
            "              precision    recall  f1-score   support\n",
            "\n",
            "           0       1.00      1.00      1.00         8\n",
            "           1       1.00      1.00      1.00        12\n",
            "\n",
            "    accuracy                           1.00        20\n",
            "   macro avg       1.00      1.00      1.00        20\n",
            "weighted avg       1.00      1.00      1.00        20\n",
            "\n",
            "Statins Classifier - Accuracy: 1.00\n",
            "Statins Classifier - Classification Report:\n",
            "              precision    recall  f1-score   support\n",
            "\n",
            "           0       1.00      1.00      1.00        11\n",
            "           1       1.00      1.00      1.00         9\n",
            "\n",
            "    accuracy                           1.00        20\n",
            "   macro avg       1.00      1.00      1.00        20\n",
            "weighted avg       1.00      1.00      1.00        20\n",
            "\n"
          ]
        }
      ],
      "source": [
        "import pandas as pd\n",
        "from sklearn.model_selection import train_test_split, GridSearchCV\n",
        "from sklearn.ensemble import RandomForestClassifier\n",
        "from sklearn.preprocessing import OneHotEncoder\n",
        "from sklearn.compose import ColumnTransformer\n",
        "from sklearn.pipeline import Pipeline\n",
        "from sklearn.metrics import accuracy_score, classification_report\n",
        "\n",
        "# Load synthetic data (combined genomic, drug response, and EHR data)\n",
        "combined_data = pd.read_csv('synthetic_data.csv')\n",
        "\n",
        "# Identify features (X) and target variable (y)\n",
        "features = combined_data.drop(['Patient_ID', 'Aspirin_Efficacy_Score', 'Insulin_Efficacy_Score', 'Statins_Efficacy_Score'], axis=1)\n",
        "target_aspirin = combined_data['Aspirin_Side_Effects']\n",
        "target_insulin = combined_data['Insulin_Side_Effects']\n",
        "target_statins = combined_data['Statins_Side_Effects']\n",
        "\n",
        "# Separate numeric and categorical features\n",
        "numeric_features = features.drop(['Gender', 'Medical_History', 'Current_Medications'], axis=1)\n",
        "categorical_features = features[['Gender', 'Medical_History', 'Current_Medications']]\n",
        "\n",
        "# Create a preprocessor to handle numeric and categorical features separately\n",
        "preprocessor = ColumnTransformer(\n",
        "    transformers=[\n",
        "        ('num', 'passthrough', numeric_features.columns),\n",
        "        ('cat', OneHotEncoder(handle_unknown='ignore'), categorical_features.columns)\n",
        "    ])\n",
        "\n",
        "# Define the pipeline with preprocessing and the classifier\n",
        "pipeline = Pipeline([\n",
        "    ('preprocessor', preprocessor),\n",
        "    ('classifier', RandomForestClassifier(random_state=42))\n",
        "])\n",
        "\n",
        "# Train and evaluate classifiers for each drug\n",
        "def train_and_evaluate_classifier(X, y, model_name):\n",
        "    # Split the data into train and test sets\n",
        "    X_train, X_test, y_train, y_test = train_test_split(X, y, test_size=0.2, random_state=42)\n",
        "\n",
        "    # Train the classifier\n",
        "    pipeline.fit(X_train, y_train)\n",
        "\n",
        "    # Make predictions on the test set\n",
        "    y_pred = pipeline.predict(X_test)\n",
        "\n",
        "    # Evaluate the classifier\n",
        "    accuracy = accuracy_score(y_test, y_pred)\n",
        "    print(f'{model_name} - Accuracy: {accuracy:.2f}')\n",
        "    print(f'{model_name} - Classification Report:\\n{classification_report(y_test, y_pred)}')\n",
        "\n",
        "# Train and evaluate classifiers for each drug\n",
        "train_and_evaluate_classifier(features, target_aspirin, 'Aspirin Classifier')\n",
        "train_and_evaluate_classifier(features, target_insulin, 'Insulin Classifier')\n",
        "train_and_evaluate_classifier(features, target_statins, 'Statins Classifier')\n"
      ]
    },
    {
      "cell_type": "code",
      "execution_count": null,
      "metadata": {},
      "outputs": [],
      "source": []
    }
  ],
  "metadata": {
    "colab": {
      "provenance": []
    },
    "kernelspec": {
      "display_name": "Python 3",
      "name": "python3"
    },
    "language_info": {
      "codemirror_mode": {
        "name": "ipython",
        "version": 3
      },
      "file_extension": ".py",
      "mimetype": "text/x-python",
      "name": "python",
      "nbconvert_exporter": "python",
      "pygments_lexer": "ipython3",
      "version": "3.10.4"
    }
  },
  "nbformat": 4,
  "nbformat_minor": 0
}
